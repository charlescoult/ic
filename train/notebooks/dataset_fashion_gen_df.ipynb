{
 "cells": [
  {
   "cell_type": "markdown",
   "id": "5ba09da5",
   "metadata": {},
   "source": [
    "# Fashion Dataset DataFrame Generation"
   ]
  },
  {
   "cell_type": "markdown",
   "id": "cee61441",
   "metadata": {},
   "source": [
    "Creates a pandas DataFrame from the fashion_mnist dataset for utilization in run notebook"
   ]
  },
  {
   "cell_type": "code",
   "execution_count": 3,
   "id": "bfc51e5a",
   "metadata": {},
   "outputs": [
    {
     "name": "stderr",
     "output_type": "stream",
     "text": [
      "/home/charlescoult/.conda/envs/fungi/lib/python3.10/site-packages/tqdm/auto.py:21: TqdmWarning: IProgress not found. Please update jupyter and ipywidgets. See https://ipywidgets.readthedocs.io/en/stable/user_install.html\n",
      "  from .autonotebook import tqdm as notebook_tqdm\n"
     ]
    }
   ],
   "source": [
    "import pandas as pd\n",
    "import os\n",
    "import urllib\n",
    "import tensorflow as tf\n",
    "import tensorflow_datasets as tfds"
   ]
  },
  {
   "cell_type": "code",
   "execution_count": 4,
   "id": "a712923b",
   "metadata": {},
   "outputs": [],
   "source": [
    "data_dir = '/media/data/fashion'"
   ]
  },
  {
   "cell_type": "code",
   "execution_count": 5,
   "id": "769eea6e",
   "metadata": {},
   "outputs": [],
   "source": [
    "if not os.path.isdir( data_dir ):\n",
    "    os.mkdir( data_dir )"
   ]
  },
  {
   "cell_type": "markdown",
   "id": "4d585f1a",
   "metadata": {},
   "source": [
    "## Download files"
   ]
  },
  {
   "cell_type": "code",
   "execution_count": 9,
   "id": "a384439a",
   "metadata": {},
   "outputs": [],
   "source": [
    "train, test = tfds.load( 'fashion_mnist', data_dir = data_dir )"
   ]
  },
  {
   "cell_type": "markdown",
   "id": "f6f2a8b7",
   "metadata": {},
   "source": [
    "## Needs more work\n",
    "If I were to incorporate this dataset, it would be best for me to use the dataset as loaded above, and not using a pandas dataframe import - This would require extending the ability of my training code to work on tfrecords."
   ]
  },
  {
   "cell_type": "code",
   "execution_count": null,
   "id": "54a90a18",
   "metadata": {},
   "outputs": [],
   "source": []
  }
 ],
 "metadata": {
  "kernelspec": {
   "display_name": "Python [conda env:.conda-fungi]",
   "language": "python",
   "name": "conda-env-.conda-fungi-py"
  },
  "language_info": {
   "codemirror_mode": {
    "name": "ipython",
    "version": 3
   },
   "file_extension": ".py",
   "mimetype": "text/x-python",
   "name": "python",
   "nbconvert_exporter": "python",
   "pygments_lexer": "ipython3",
   "version": "3.10.9"
  }
 },
 "nbformat": 4,
 "nbformat_minor": 5
}
