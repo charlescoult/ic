{
 "cells": [
  {
   "cell_type": "markdown",
   "id": "5ba09da5",
   "metadata": {},
   "source": [
    "# CUB Dataset DataFrame Generation"
   ]
  },
  {
   "cell_type": "markdown",
   "id": "cee61441",
   "metadata": {},
   "source": [
    "Creates a pandas DataFrame from the CUB_200_2011 dataset for utilization in run notebook"
   ]
  },
  {
   "cell_type": "code",
   "execution_count": 1,
   "id": "bfc51e5a",
   "metadata": {},
   "outputs": [],
   "source": [
    "import pandas as pd\n",
    "import os"
   ]
  },
  {
   "cell_type": "code",
   "execution_count": 2,
   "id": "a712923b",
   "metadata": {},
   "outputs": [],
   "source": [
    "data_dir = '/media/data/cub/CUB_200_2011'"
   ]
  },
  {
   "cell_type": "markdown",
   "id": "c398dbc1",
   "metadata": {},
   "source": [
    "## Filenames"
   ]
  },
  {
   "cell_type": "code",
   "execution_count": 3,
   "id": "2b90273c",
   "metadata": {},
   "outputs": [],
   "source": [
    "images = pd.read_csv(\n",
    "    os.path.join( data_dir, 'images.txt' ),\n",
    "    delimiter = ' ',\n",
    "    header = None,\n",
    "    names = [ 'index', 'filename' ],\n",
    "    index_col = 'index',\n",
    ")\n"
   ]
  },
  {
   "cell_type": "code",
   "execution_count": 4,
   "id": "075230d3",
   "metadata": {},
   "outputs": [
    {
     "data": {
      "text/html": [
       "<div>\n",
       "<style scoped>\n",
       "    .dataframe tbody tr th:only-of-type {\n",
       "        vertical-align: middle;\n",
       "    }\n",
       "\n",
       "    .dataframe tbody tr th {\n",
       "        vertical-align: top;\n",
       "    }\n",
       "\n",
       "    .dataframe thead th {\n",
       "        text-align: right;\n",
       "    }\n",
       "</style>\n",
       "<table border=\"1\" class=\"dataframe\">\n",
       "  <thead>\n",
       "    <tr style=\"text-align: right;\">\n",
       "      <th></th>\n",
       "      <th>filename</th>\n",
       "    </tr>\n",
       "    <tr>\n",
       "      <th>index</th>\n",
       "      <th></th>\n",
       "    </tr>\n",
       "  </thead>\n",
       "  <tbody>\n",
       "    <tr>\n",
       "      <th>1</th>\n",
       "      <td>001.Black_footed_Albatross/Black_Footed_Albatr...</td>\n",
       "    </tr>\n",
       "    <tr>\n",
       "      <th>2</th>\n",
       "      <td>001.Black_footed_Albatross/Black_Footed_Albatr...</td>\n",
       "    </tr>\n",
       "    <tr>\n",
       "      <th>3</th>\n",
       "      <td>001.Black_footed_Albatross/Black_Footed_Albatr...</td>\n",
       "    </tr>\n",
       "    <tr>\n",
       "      <th>4</th>\n",
       "      <td>001.Black_footed_Albatross/Black_Footed_Albatr...</td>\n",
       "    </tr>\n",
       "    <tr>\n",
       "      <th>5</th>\n",
       "      <td>001.Black_footed_Albatross/Black_Footed_Albatr...</td>\n",
       "    </tr>\n",
       "  </tbody>\n",
       "</table>\n",
       "</div>"
      ],
      "text/plain": [
       "                                                filename\n",
       "index                                                   \n",
       "1      001.Black_footed_Albatross/Black_Footed_Albatr...\n",
       "2      001.Black_footed_Albatross/Black_Footed_Albatr...\n",
       "3      001.Black_footed_Albatross/Black_Footed_Albatr...\n",
       "4      001.Black_footed_Albatross/Black_Footed_Albatr...\n",
       "5      001.Black_footed_Albatross/Black_Footed_Albatr..."
      ]
     },
     "execution_count": 4,
     "metadata": {},
     "output_type": "execute_result"
    }
   ],
   "source": [
    "images.head()"
   ]
  },
  {
   "cell_type": "markdown",
   "id": "552c910b",
   "metadata": {},
   "source": [
    "### Parse out class"
   ]
  },
  {
   "cell_type": "code",
   "execution_count": 5,
   "id": "c77e3cc4",
   "metadata": {},
   "outputs": [],
   "source": [
    "images['class'] = images['filename'].str.split('.').str[0].astype(int)"
   ]
  },
  {
   "cell_type": "code",
   "execution_count": 6,
   "id": "37377491",
   "metadata": {},
   "outputs": [
    {
     "data": {
      "text/plain": [
       "<Axes: >"
      ]
     },
     "execution_count": 6,
     "metadata": {},
     "output_type": "execute_result"
    },
    {
     "data": {
      "image/png": "[encoded data removed]",
      "text/plain": [
       "<Figure size 640x480 with 1 Axes>"
      ]
     },
     "metadata": {},
     "output_type": "display_data"
    }
   ],
   "source": [
    "images['class'].value_counts().hist()"
   ]
  },
  {
   "cell_type": "markdown",
   "id": "ddab3817",
   "metadata": {},
   "source": [
    "### Generate full file_path"
   ]
  },
  {
   "cell_type": "code",
   "execution_count": 7,
   "id": "09ebbc49",
   "metadata": {},
   "outputs": [],
   "source": [
    "images['file_path'] = images['filename'].apply( lambda filename: os.path.join( data_dir, 'images', filename) )"
   ]
  },
  {
   "cell_type": "code",
   "execution_count": 8,
   "id": "0f717d32",
   "metadata": {},
   "outputs": [],
   "source": [
    "# assert each file exists\n",
    "assert images['file_path'].apply( lambda file_path: os.path.isfile( file_path ) ).all()"
   ]
  },
  {
   "cell_type": "markdown",
   "id": "5739ed9f",
   "metadata": {},
   "source": [
    "## Class Names"
   ]
  },
  {
   "cell_type": "code",
   "execution_count": 9,
   "id": "becde5db",
   "metadata": {},
   "outputs": [],
   "source": [
    "classes = pd.read_csv(\n",
    "    os.path.join( data_dir, 'classes.txt' ),\n",
    "    delimiter = ' ',\n",
    "    header = None,\n",
    "    names = [ 'index', 'class' ],\n",
    "    index_col = 'index',\n",
    ")\n"
   ]
  },
  {
   "cell_type": "code",
   "execution_count": 10,
   "id": "a167353d",
   "metadata": {},
   "outputs": [
    {
     "data": {
      "text/html": [
       "<div>\n",
       "<style scoped>\n",
       "    .dataframe tbody tr th:only-of-type {\n",
       "        vertical-align: middle;\n",
       "    }\n",
       "\n",
       "    .dataframe tbody tr th {\n",
       "        vertical-align: top;\n",
       "    }\n",
       "\n",
       "    .dataframe thead th {\n",
       "        text-align: right;\n",
       "    }\n",
       "</style>\n",
       "<table border=\"1\" class=\"dataframe\">\n",
       "  <thead>\n",
       "    <tr style=\"text-align: right;\">\n",
       "      <th></th>\n",
       "      <th>class</th>\n",
       "    </tr>\n",
       "    <tr>\n",
       "      <th>index</th>\n",
       "      <th></th>\n",
       "    </tr>\n",
       "  </thead>\n",
       "  <tbody>\n",
       "    <tr>\n",
       "      <th>1</th>\n",
       "      <td>001.Black_footed_Albatross</td>\n",
       "    </tr>\n",
       "    <tr>\n",
       "      <th>2</th>\n",
       "      <td>002.Laysan_Albatross</td>\n",
       "    </tr>\n",
       "    <tr>\n",
       "      <th>3</th>\n",
       "      <td>003.Sooty_Albatross</td>\n",
       "    </tr>\n",
       "    <tr>\n",
       "      <th>4</th>\n",
       "      <td>004.Groove_billed_Ani</td>\n",
       "    </tr>\n",
       "    <tr>\n",
       "      <th>5</th>\n",
       "      <td>005.Crested_Auklet</td>\n",
       "    </tr>\n",
       "  </tbody>\n",
       "</table>\n",
       "</div>"
      ],
      "text/plain": [
       "                            class\n",
       "index                            \n",
       "1      001.Black_footed_Albatross\n",
       "2            002.Laysan_Albatross\n",
       "3             003.Sooty_Albatross\n",
       "4           004.Groove_billed_Ani\n",
       "5              005.Crested_Auklet"
      ]
     },
     "execution_count": 10,
     "metadata": {},
     "output_type": "execute_result"
    }
   ],
   "source": [
    "classes.head()"
   ]
  },
  {
   "cell_type": "code",
   "execution_count": 11,
   "id": "32aab26d",
   "metadata": {},
   "outputs": [],
   "source": [
    "classes['split'] = classes['class'].str.split('.')"
   ]
  },
  {
   "cell_type": "code",
   "execution_count": 12,
   "id": "7bbc8992",
   "metadata": {},
   "outputs": [],
   "source": [
    "# just for sanity - make sure the index is the same as what is represented in the string\n",
    "classes.index = classes['split'].str[0].astype(int).rename('index')"
   ]
  },
  {
   "cell_type": "code",
   "execution_count": 13,
   "id": "afbc08de",
   "metadata": {},
   "outputs": [
    {
     "data": {
      "text/html": [
       "<div>\n",
       "<style scoped>\n",
       "    .dataframe tbody tr th:only-of-type {\n",
       "        vertical-align: middle;\n",
       "    }\n",
       "\n",
       "    .dataframe tbody tr th {\n",
       "        vertical-align: top;\n",
       "    }\n",
       "\n",
       "    .dataframe thead th {\n",
       "        text-align: right;\n",
       "    }\n",
       "</style>\n",
       "<table border=\"1\" class=\"dataframe\">\n",
       "  <thead>\n",
       "    <tr style=\"text-align: right;\">\n",
       "      <th></th>\n",
       "      <th>class</th>\n",
       "      <th>split</th>\n",
       "    </tr>\n",
       "    <tr>\n",
       "      <th>index</th>\n",
       "      <th></th>\n",
       "      <th></th>\n",
       "    </tr>\n",
       "  </thead>\n",
       "  <tbody>\n",
       "    <tr>\n",
       "      <th>1</th>\n",
       "      <td>001.Black_footed_Albatross</td>\n",
       "      <td>[001, Black_footed_Albatross]</td>\n",
       "    </tr>\n",
       "    <tr>\n",
       "      <th>2</th>\n",
       "      <td>002.Laysan_Albatross</td>\n",
       "      <td>[002, Laysan_Albatross]</td>\n",
       "    </tr>\n",
       "    <tr>\n",
       "      <th>3</th>\n",
       "      <td>003.Sooty_Albatross</td>\n",
       "      <td>[003, Sooty_Albatross]</td>\n",
       "    </tr>\n",
       "    <tr>\n",
       "      <th>4</th>\n",
       "      <td>004.Groove_billed_Ani</td>\n",
       "      <td>[004, Groove_billed_Ani]</td>\n",
       "    </tr>\n",
       "    <tr>\n",
       "      <th>5</th>\n",
       "      <td>005.Crested_Auklet</td>\n",
       "      <td>[005, Crested_Auklet]</td>\n",
       "    </tr>\n",
       "  </tbody>\n",
       "</table>\n",
       "</div>"
      ],
      "text/plain": [
       "                            class                          split\n",
       "index                                                           \n",
       "1      001.Black_footed_Albatross  [001, Black_footed_Albatross]\n",
       "2            002.Laysan_Albatross        [002, Laysan_Albatross]\n",
       "3             003.Sooty_Albatross         [003, Sooty_Albatross]\n",
       "4           004.Groove_billed_Ani       [004, Groove_billed_Ani]\n",
       "5              005.Crested_Auklet          [005, Crested_Auklet]"
      ]
     },
     "execution_count": 13,
     "metadata": {},
     "output_type": "execute_result"
    }
   ],
   "source": [
    "classes.head()"
   ]
  },
  {
   "cell_type": "code",
   "execution_count": 14,
   "id": "fcded1ca",
   "metadata": {},
   "outputs": [
    {
     "data": {
      "text/html": [
       "<div>\n",
       "<style scoped>\n",
       "    .dataframe tbody tr th:only-of-type {\n",
       "        vertical-align: middle;\n",
       "    }\n",
       "\n",
       "    .dataframe tbody tr th {\n",
       "        vertical-align: top;\n",
       "    }\n",
       "\n",
       "    .dataframe thead th {\n",
       "        text-align: right;\n",
       "    }\n",
       "</style>\n",
       "<table border=\"1\" class=\"dataframe\">\n",
       "  <thead>\n",
       "    <tr style=\"text-align: right;\">\n",
       "      <th></th>\n",
       "      <th>class</th>\n",
       "      <th>split</th>\n",
       "    </tr>\n",
       "    <tr>\n",
       "      <th>index</th>\n",
       "      <th></th>\n",
       "      <th></th>\n",
       "    </tr>\n",
       "  </thead>\n",
       "  <tbody>\n",
       "    <tr>\n",
       "      <th>1</th>\n",
       "      <td>Black footed Albatross</td>\n",
       "      <td>[001, Black_footed_Albatross]</td>\n",
       "    </tr>\n",
       "    <tr>\n",
       "      <th>2</th>\n",
       "      <td>Laysan Albatross</td>\n",
       "      <td>[002, Laysan_Albatross]</td>\n",
       "    </tr>\n",
       "    <tr>\n",
       "      <th>3</th>\n",
       "      <td>Sooty Albatross</td>\n",
       "      <td>[003, Sooty_Albatross]</td>\n",
       "    </tr>\n",
       "    <tr>\n",
       "      <th>4</th>\n",
       "      <td>Groove billed Ani</td>\n",
       "      <td>[004, Groove_billed_Ani]</td>\n",
       "    </tr>\n",
       "    <tr>\n",
       "      <th>5</th>\n",
       "      <td>Crested Auklet</td>\n",
       "      <td>[005, Crested_Auklet]</td>\n",
       "    </tr>\n",
       "  </tbody>\n",
       "</table>\n",
       "</div>"
      ],
      "text/plain": [
       "                        class                          split\n",
       "index                                                       \n",
       "1      Black footed Albatross  [001, Black_footed_Albatross]\n",
       "2            Laysan Albatross        [002, Laysan_Albatross]\n",
       "3             Sooty Albatross         [003, Sooty_Albatross]\n",
       "4           Groove billed Ani       [004, Groove_billed_Ani]\n",
       "5              Crested Auklet          [005, Crested_Auklet]"
      ]
     },
     "execution_count": 14,
     "metadata": {},
     "output_type": "execute_result"
    }
   ],
   "source": [
    "classes['class'] = classes['split'].str[1].str.replace('_', ' ')\n",
    "classes.head()"
   ]
  },
  {
   "cell_type": "code",
   "execution_count": 15,
   "id": "a3482d87",
   "metadata": {},
   "outputs": [],
   "source": [
    "classes = classes.drop( 'split', axis = 1 )"
   ]
  },
  {
   "cell_type": "code",
   "execution_count": 16,
   "id": "cdc2e669",
   "metadata": {},
   "outputs": [
    {
     "data": {
      "text/html": [
       "<div>\n",
       "<style scoped>\n",
       "    .dataframe tbody tr th:only-of-type {\n",
       "        vertical-align: middle;\n",
       "    }\n",
       "\n",
       "    .dataframe tbody tr th {\n",
       "        vertical-align: top;\n",
       "    }\n",
       "\n",
       "    .dataframe thead th {\n",
       "        text-align: right;\n",
       "    }\n",
       "</style>\n",
       "<table border=\"1\" class=\"dataframe\">\n",
       "  <thead>\n",
       "    <tr style=\"text-align: right;\">\n",
       "      <th></th>\n",
       "      <th>class</th>\n",
       "    </tr>\n",
       "    <tr>\n",
       "      <th>index</th>\n",
       "      <th></th>\n",
       "    </tr>\n",
       "  </thead>\n",
       "  <tbody>\n",
       "    <tr>\n",
       "      <th>1</th>\n",
       "      <td>Black footed Albatross</td>\n",
       "    </tr>\n",
       "    <tr>\n",
       "      <th>2</th>\n",
       "      <td>Laysan Albatross</td>\n",
       "    </tr>\n",
       "    <tr>\n",
       "      <th>3</th>\n",
       "      <td>Sooty Albatross</td>\n",
       "    </tr>\n",
       "    <tr>\n",
       "      <th>4</th>\n",
       "      <td>Groove billed Ani</td>\n",
       "    </tr>\n",
       "    <tr>\n",
       "      <th>5</th>\n",
       "      <td>Crested Auklet</td>\n",
       "    </tr>\n",
       "    <tr>\n",
       "      <th>...</th>\n",
       "      <td>...</td>\n",
       "    </tr>\n",
       "    <tr>\n",
       "      <th>196</th>\n",
       "      <td>House Wren</td>\n",
       "    </tr>\n",
       "    <tr>\n",
       "      <th>197</th>\n",
       "      <td>Marsh Wren</td>\n",
       "    </tr>\n",
       "    <tr>\n",
       "      <th>198</th>\n",
       "      <td>Rock Wren</td>\n",
       "    </tr>\n",
       "    <tr>\n",
       "      <th>199</th>\n",
       "      <td>Winter Wren</td>\n",
       "    </tr>\n",
       "    <tr>\n",
       "      <th>200</th>\n",
       "      <td>Common Yellowthroat</td>\n",
       "    </tr>\n",
       "  </tbody>\n",
       "</table>\n",
       "<p>200 rows × 1 columns</p>\n",
       "</div>"
      ],
      "text/plain": [
       "                        class\n",
       "index                        \n",
       "1      Black footed Albatross\n",
       "2            Laysan Albatross\n",
       "3             Sooty Albatross\n",
       "4           Groove billed Ani\n",
       "5              Crested Auklet\n",
       "...                       ...\n",
       "196                House Wren\n",
       "197                Marsh Wren\n",
       "198                 Rock Wren\n",
       "199               Winter Wren\n",
       "200       Common Yellowthroat\n",
       "\n",
       "[200 rows x 1 columns]"
      ]
     },
     "execution_count": 16,
     "metadata": {},
     "output_type": "execute_result"
    }
   ],
   "source": [
    "classes"
   ]
  },
  {
   "cell_type": "markdown",
   "id": "0b0b41e7",
   "metadata": {},
   "source": [
    "## Apply Class Names to Class Indexes"
   ]
  },
  {
   "cell_type": "code",
   "execution_count": 17,
   "id": "337afaad",
   "metadata": {},
   "outputs": [],
   "source": [
    "images['class_name'] = images['class'].map( classes['class'] )"
   ]
  },
  {
   "cell_type": "code",
   "execution_count": 18,
   "id": "87d340a6",
   "metadata": {},
   "outputs": [],
   "source": [
    "images = images.drop( 'filename', axis = 1 )"
   ]
  },
  {
   "cell_type": "code",
   "execution_count": 19,
   "id": "c9c8bba0",
   "metadata": {},
   "outputs": [
    {
     "data": {
      "text/html": [
       "<div>\n",
       "<style scoped>\n",
       "    .dataframe tbody tr th:only-of-type {\n",
       "        vertical-align: middle;\n",
       "    }\n",
       "\n",
       "    .dataframe tbody tr th {\n",
       "        vertical-align: top;\n",
       "    }\n",
       "\n",
       "    .dataframe thead th {\n",
       "        text-align: right;\n",
       "    }\n",
       "</style>\n",
       "<table border=\"1\" class=\"dataframe\">\n",
       "  <thead>\n",
       "    <tr style=\"text-align: right;\">\n",
       "      <th></th>\n",
       "      <th>class</th>\n",
       "      <th>file_path</th>\n",
       "      <th>class_name</th>\n",
       "    </tr>\n",
       "    <tr>\n",
       "      <th>index</th>\n",
       "      <th></th>\n",
       "      <th></th>\n",
       "      <th></th>\n",
       "    </tr>\n",
       "  </thead>\n",
       "  <tbody>\n",
       "    <tr>\n",
       "      <th>1</th>\n",
       "      <td>1</td>\n",
       "      <td>/media/data/cub/CUB_200_2011/images/001.Black_...</td>\n",
       "      <td>Black footed Albatross</td>\n",
       "    </tr>\n",
       "    <tr>\n",
       "      <th>2</th>\n",
       "      <td>1</td>\n",
       "      <td>/media/data/cub/CUB_200_2011/images/001.Black_...</td>\n",
       "      <td>Black footed Albatross</td>\n",
       "    </tr>\n",
       "    <tr>\n",
       "      <th>3</th>\n",
       "      <td>1</td>\n",
       "      <td>/media/data/cub/CUB_200_2011/images/001.Black_...</td>\n",
       "      <td>Black footed Albatross</td>\n",
       "    </tr>\n",
       "    <tr>\n",
       "      <th>4</th>\n",
       "      <td>1</td>\n",
       "      <td>/media/data/cub/CUB_200_2011/images/001.Black_...</td>\n",
       "      <td>Black footed Albatross</td>\n",
       "    </tr>\n",
       "    <tr>\n",
       "      <th>5</th>\n",
       "      <td>1</td>\n",
       "      <td>/media/data/cub/CUB_200_2011/images/001.Black_...</td>\n",
       "      <td>Black footed Albatross</td>\n",
       "    </tr>\n",
       "    <tr>\n",
       "      <th>...</th>\n",
       "      <td>...</td>\n",
       "      <td>...</td>\n",
       "      <td>...</td>\n",
       "    </tr>\n",
       "    <tr>\n",
       "      <th>11784</th>\n",
       "      <td>200</td>\n",
       "      <td>/media/data/cub/CUB_200_2011/images/200.Common...</td>\n",
       "      <td>Common Yellowthroat</td>\n",
       "    </tr>\n",
       "    <tr>\n",
       "      <th>11785</th>\n",
       "      <td>200</td>\n",
       "      <td>/media/data/cub/CUB_200_2011/images/200.Common...</td>\n",
       "      <td>Common Yellowthroat</td>\n",
       "    </tr>\n",
       "    <tr>\n",
       "      <th>11786</th>\n",
       "      <td>200</td>\n",
       "      <td>/media/data/cub/CUB_200_2011/images/200.Common...</td>\n",
       "      <td>Common Yellowthroat</td>\n",
       "    </tr>\n",
       "    <tr>\n",
       "      <th>11787</th>\n",
       "      <td>200</td>\n",
       "      <td>/media/data/cub/CUB_200_2011/images/200.Common...</td>\n",
       "      <td>Common Yellowthroat</td>\n",
       "    </tr>\n",
       "    <tr>\n",
       "      <th>11788</th>\n",
       "      <td>200</td>\n",
       "      <td>/media/data/cub/CUB_200_2011/images/200.Common...</td>\n",
       "      <td>Common Yellowthroat</td>\n",
       "    </tr>\n",
       "  </tbody>\n",
       "</table>\n",
       "<p>11788 rows × 3 columns</p>\n",
       "</div>"
      ],
      "text/plain": [
       "       class                                          file_path  \\\n",
       "index                                                             \n",
       "1          1  /media/data/cub/CUB_200_2011/images/001.Black_...   \n",
       "2          1  /media/data/cub/CUB_200_2011/images/001.Black_...   \n",
       "3          1  /media/data/cub/CUB_200_2011/images/001.Black_...   \n",
       "4          1  /media/data/cub/CUB_200_2011/images/001.Black_...   \n",
       "5          1  /media/data/cub/CUB_200_2011/images/001.Black_...   \n",
       "...      ...                                                ...   \n",
       "11784    200  /media/data/cub/CUB_200_2011/images/200.Common...   \n",
       "11785    200  /media/data/cub/CUB_200_2011/images/200.Common...   \n",
       "11786    200  /media/data/cub/CUB_200_2011/images/200.Common...   \n",
       "11787    200  /media/data/cub/CUB_200_2011/images/200.Common...   \n",
       "11788    200  /media/data/cub/CUB_200_2011/images/200.Common...   \n",
       "\n",
       "                   class_name  \n",
       "index                          \n",
       "1      Black footed Albatross  \n",
       "2      Black footed Albatross  \n",
       "3      Black footed Albatross  \n",
       "4      Black footed Albatross  \n",
       "5      Black footed Albatross  \n",
       "...                       ...  \n",
       "11784     Common Yellowthroat  \n",
       "11785     Common Yellowthroat  \n",
       "11786     Common Yellowthroat  \n",
       "11787     Common Yellowthroat  \n",
       "11788     Common Yellowthroat  \n",
       "\n",
       "[11788 rows x 3 columns]"
      ]
     },
     "execution_count": 19,
     "metadata": {},
     "output_type": "execute_result"
    }
   ],
   "source": [
    "images"
   ]
  },
  {
   "cell_type": "markdown",
   "id": "9136d6db",
   "metadata": {},
   "source": [
    "## Save HDF"
   ]
  },
  {
   "cell_type": "code",
   "execution_count": 20,
   "id": "bbeed85f",
   "metadata": {},
   "outputs": [],
   "source": [
    "images.to_hdf( os.path.join( data_dir, '..', 'cub.h5' ), 'cub' )"
   ]
  },
  {
   "cell_type": "code",
   "execution_count": null,
   "id": "fce3560c",
   "metadata": {},
   "outputs": [],
   "source": []
  }
 ],
 "metadata": {
  "kernelspec": {
   "display_name": "Python [conda env:.conda-fungi]",
   "language": "python",
   "name": "conda-env-.conda-fungi-py"
  },
  "language_info": {
   "codemirror_mode": {
    "name": "ipython",
    "version": 3
   },
   "file_extension": ".py",
   "mimetype": "text/x-python",
   "name": "python",
   "nbconvert_exporter": "python",
   "pygments_lexer": "ipython3",
   "version": "3.10.9"
  }
 },
 "nbformat": 4,
 "nbformat_minor": 5
}
