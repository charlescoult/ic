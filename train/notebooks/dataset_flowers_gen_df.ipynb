{
 "cells": [
  {
   "cell_type": "markdown",
   "id": "5ba09da5",
   "metadata": {},
   "source": [
    "# Flowers Dataset DataFrame Generation"
   ]
  },
  {
   "cell_type": "markdown",
   "id": "cee61441",
   "metadata": {},
   "source": [
    "Creates a pandas DataFrame from the flowers dataset for utilization in run notebook"
   ]
  },
  {
   "cell_type": "code",
   "execution_count": 1,
   "id": "bfc51e5a",
   "metadata": {},
   "outputs": [],
   "source": [
    "import pandas as pd\n",
    "import os\n",
    "import urllib\n",
    "import tensorflow as tf"
   ]
  },
  {
   "cell_type": "code",
   "execution_count": 2,
   "id": "a712923b",
   "metadata": {},
   "outputs": [],
   "source": [
    "data_dir = '/media/data/flowers'"
   ]
  },
  {
   "cell_type": "code",
   "execution_count": 3,
   "id": "769eea6e",
   "metadata": {},
   "outputs": [],
   "source": [
    "if not os.path.isdir( data_dir ):\n",
    "    os.mkdir( data_dir )"
   ]
  },
  {
   "cell_type": "markdown",
   "id": "4d585f1a",
   "metadata": {},
   "source": [
    "## Download files"
   ]
  },
  {
   "cell_type": "code",
   "execution_count": 4,
   "id": "0ee116a7",
   "metadata": {},
   "outputs": [
    {
     "name": "stdout",
     "output_type": "stream",
     "text": [
      "File already downloaded.\n"
     ]
    }
   ],
   "source": [
    "data_file_path = os.path.join( data_dir, 'flower_photos.tgz' )\n",
    "if os.path.isfile( data_file_path ):\n",
    "    print(\"File already downloaded.\")\n",
    "else:\n",
    "    DOWNLOAD_URL = 'http://download.tensorflow.org/example_images/flower_photos.tgz'\n",
    "    print('Downloading flower images from %s...' % DOWNLOAD_URL)\n",
    "    urllib.request.urlretrieve(DOWNLOAD_URL, data_file_path )"
   ]
  },
  {
   "cell_type": "code",
   "execution_count": 5,
   "id": "5ce08200",
   "metadata": {},
   "outputs": [],
   "source": [
    "!tar xzf \"/media/data/flowers/flower_photos.tgz\" -C \"/media/data/flowers\""
   ]
  },
  {
   "cell_type": "markdown",
   "id": "c398dbc1",
   "metadata": {},
   "source": [
    "## Filenames"
   ]
  },
  {
   "cell_type": "code",
   "execution_count": 6,
   "id": "24988464",
   "metadata": {},
   "outputs": [],
   "source": [
    "images = pd.DataFrame()"
   ]
  },
  {
   "cell_type": "code",
   "execution_count": 7,
   "id": "2b90273c",
   "metadata": {},
   "outputs": [
    {
     "name": "stdout",
     "output_type": "stream",
     "text": [
      "tulips\n",
      "dandelion\n",
      "roses\n",
      "sunflowers\n",
      "daisy\n",
      "                                              filename   class\n",
      "0    /media/data/flowers/flower_photos/tulips/36010...  tulips\n",
      "1    /media/data/flowers/flower_photos/tulips/17324...  tulips\n",
      "2    /media/data/flowers/flower_photos/tulips/10094...  tulips\n",
      "3    /media/data/flowers/flower_photos/tulips/74812...  tulips\n",
      "4    /media/data/flowers/flower_photos/tulips/14087...  tulips\n",
      "..                                                 ...     ...\n",
      "628  /media/data/flowers/flower_photos/daisy/145549...   daisy\n",
      "629  /media/data/flowers/flower_photos/daisy/433837...   daisy\n",
      "630  /media/data/flowers/flower_photos/daisy/125851...   daisy\n",
      "631  /media/data/flowers/flower_photos/daisy/302782...   daisy\n",
      "632  /media/data/flowers/flower_photos/daisy/252036...   daisy\n",
      "\n",
      "[3670 rows x 2 columns]\n"
     ]
    }
   ],
   "source": [
    "for (dirname, subdirs, filenames) in os.walk( os.path.join( data_dir, 'flower_photos' ) ):\n",
    "    if ( len(subdirs) == 0 ):\n",
    "        full_filenames = [os.path.join(dirname, f) for f in filenames]\n",
    "\n",
    "        classname = dirname.split( os.sep )[-1]\n",
    "        print(classname)\n",
    "        df = pd.DataFrame( full_filenames, columns = [ 'filename' ]  )\n",
    "        df['class'] = classname\n",
    "        images = pd.concat( [ images, df ] )\n",
    "\n",
    "print(images)"
   ]
  },
  {
   "cell_type": "markdown",
   "id": "9136d6db",
   "metadata": {},
   "source": [
    "## Save HDF"
   ]
  },
  {
   "cell_type": "code",
   "execution_count": 8,
   "id": "bbeed85f",
   "metadata": {},
   "outputs": [],
   "source": [
    "images.to_hdf( os.path.join( data_dir, 'flowers.h5' ), 'flowers' )"
   ]
  },
  {
   "cell_type": "code",
   "execution_count": null,
   "id": "df2d2602",
   "metadata": {},
   "outputs": [],
   "source": []
  }
 ],
 "metadata": {
  "kernelspec": {
   "display_name": "Python [conda env:.conda-fungi]",
   "language": "python",
   "name": "conda-env-.conda-fungi-py"
  },
  "language_info": {
   "codemirror_mode": {
    "name": "ipython",
    "version": 3
   },
   "file_extension": ".py",
   "mimetype": "text/x-python",
   "name": "python",
   "nbconvert_exporter": "python",
   "pygments_lexer": "ipython3",
   "version": "3.10.9"
  }
 },
 "nbformat": 4,
 "nbformat_minor": 5
}
